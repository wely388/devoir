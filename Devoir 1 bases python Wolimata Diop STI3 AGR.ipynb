{
 "cells": [
  {
   "cell_type": "code",
   "execution_count": 14,
   "metadata": {
    "collapsed": true
   },
   "outputs": [
    {
     "name": "stdout",
     "output_type": "stream",
     "text": [
      "[1, 2, 3, 4, 5, 7, 8, 9, 10, 11, 12]\n",
      "saisir un nombre:12\n",
      "le nombre est paire\n",
      "1 + 2 + 3 + 4 + 5 + 6 + 7 + 8 + 9 +  = 45\n",
      "['s', 'r', 'c', 's', 'c']\n"
     ]
    }
   ],
   "source": [
    "#exo2\n",
    "#1.une fonction qui prend deux listes entree et renvoie une nouvelle liste contenant les elementscommun aux deux listes\n",
    "liste3=[]\n",
    "liste1=[1,2,3,4,5,7]\n",
    "liste2=[8,9,10,11,12]\n",
    "for i in range(len(liste1)):\n",
    "    liste3=liste1+liste2\n",
    "#for i in range(len(liste2)):\n",
    "    #liste3=liste2\n",
    "print(liste3) \n",
    "#2.une fonction qui prend un nombre en entree et envoie paire ou impaire\n",
    "a=0\n",
    "a=int(input(\"saisir un nombre:\"))\n",
    "if a%2==0:\n",
    "    print(\"le nombre est paire\")\n",
    "else:\n",
    "    print(\"le nombre est impaire\")\n",
    "#3.somme de tous les elements\n",
    "list=[1,2,3,4,5,6,7,8,9]\n",
    "somme=0\n",
    "for i in list:\n",
    "    somme=somme+i\n",
    "    print(i,end=\" + \",)\n",
    "print( end=\" = \")\n",
    "print(somme)\n",
    "#4.une fonction qui prend une liste de lots en entree et renvoie une nouvelle liste contenant la premiere lettre de chaque mot\n",
    "def premierlettre(liste):\n",
    "    print([i[0] for i in liste])\n",
    "premierlettre([\"sac\",\"régle\",\"crayon\",\"stylo\",\"cahier\"])\n",
    "\n",
    "    \n",
    "    \n"
   ]
  },
  {
   "cell_type": "code",
   "execution_count": 5,
   "metadata": {},
   "outputs": [
    {
     "name": "stdout",
     "output_type": "stream",
     "text": [
      "[1, 2, 3, 4, 5, 6, 7, 8, 9, 10]\n",
      "2\n",
      "4\n",
      "6\n",
      "8\n",
      "10\n",
      "12\n",
      "14\n",
      "16\n",
      "18\n",
      "20\n"
     ]
    },
    {
     "ename": "TypeError",
     "evalue": "object of type 'type' has no len()",
     "output_type": "error",
     "traceback": [
      "\u001b[1;31m---------------------------------------------------------------------------\u001b[0m",
      "\u001b[1;31mTypeError\u001b[0m                                 Traceback (most recent call last)",
      "\u001b[1;32m<ipython-input-5-074a72f46f90>\u001b[0m in \u001b[0;36m<module>\u001b[1;34m\u001b[0m\n\u001b[0;32m     11\u001b[0m \u001b[0mliste\u001b[0m\u001b[1;33m=\u001b[0m\u001b[1;33m[\u001b[0m\u001b[1;33m]\u001b[0m\u001b[1;33m\u001b[0m\u001b[1;33m\u001b[0m\u001b[0m\n\u001b[0;32m     12\u001b[0m \u001b[0mliste\u001b[0m\u001b[1;33m=\u001b[0m\u001b[1;33m[\u001b[0m\u001b[1;34m\"penda\"\u001b[0m\u001b[1;33m,\u001b[0m\u001b[1;34m\"maman\"\u001b[0m\u001b[1;33m,\u001b[0m\u001b[1;34m\"awa\"\u001b[0m\u001b[1;33m,\u001b[0m\u001b[1;34m\"fanta\"\u001b[0m\u001b[1;33m,\u001b[0m\u001b[1;34m\"amina\"\u001b[0m\u001b[1;33m]\u001b[0m\u001b[1;33m\u001b[0m\u001b[1;33m\u001b[0m\u001b[0m\n\u001b[1;32m---> 13\u001b[1;33m \u001b[1;32mfor\u001b[0m \u001b[0mi\u001b[0m \u001b[1;32min\u001b[0m \u001b[0mrange\u001b[0m\u001b[1;33m(\u001b[0m\u001b[0mlen\u001b[0m\u001b[1;33m(\u001b[0m\u001b[0mlist\u001b[0m\u001b[1;33m)\u001b[0m\u001b[1;33m)\u001b[0m\u001b[1;33m:\u001b[0m\u001b[1;33m\u001b[0m\u001b[1;33m\u001b[0m\u001b[0m\n\u001b[0m\u001b[0;32m     14\u001b[0m     \u001b[0mliste\u001b[0m\u001b[1;33m.\u001b[0m\u001b[0mappend\u001b[0m\u001b[1;33m(\u001b[0m\u001b[0mlist\u001b[0m\u001b[1;33m[\u001b[0m\u001b[0mi\u001b[0m\u001b[1;33m]\u001b[0m\u001b[1;33m)\u001b[0m\u001b[1;33m\u001b[0m\u001b[1;33m\u001b[0m\u001b[0m\n\u001b[0;32m     15\u001b[0m     \u001b[0mprint\u001b[0m\u001b[1;33m(\u001b[0m\u001b[0mlen\u001b[0m\u001b[1;33m(\u001b[0m\u001b[0mliste\u001b[0m\u001b[1;33m)\u001b[0m\u001b[1;33m)\u001b[0m\u001b[1;33m\u001b[0m\u001b[1;33m\u001b[0m\u001b[0m\n",
      "\u001b[1;31mTypeError\u001b[0m: object of type 'type' has no len()"
     ]
    }
   ],
   "source": [
    "#exo1\n",
    "#1.creer un tableau de 10 nombres\n",
    "liste=[]\n",
    "for i in range(1,11):\n",
    "    liste.append(i)\n",
    "print(liste)\n",
    "#multiplie de chaque nombre par 2\n",
    "for i in liste:\n",
    "    print(i*2)\n",
    "#2.creer une liste de noms et afficher la longueur de chaque nom en utilisant une boucle\n",
    "liste=[]\n",
    "liste=[\"penda\",\"maman\",\"awa\",\"fanta\",\"amina\"]\n",
    "for i in range(len(list)):\n",
    "    liste.append(list[i])\n",
    "    print(len(liste))\n",
    "    print(\"\\n\")\n",
    "#3.une fonction qui prend une liste de nombre  en entree et renvoie la liste contenant le carre de chaque element\n",
    "b=[]\n",
    "for i in range(len(\"n\")):\n",
    "    b=i*i\n",
    "    print(b)\n",
    "#4.creer une liste de nombres aleatoires et afficher seulement les nombres qui sont superieurs à 5\n",
    "for i in range(len(\"n\")):\n",
    "    if i>5:\n",
    "        print(i)\n",
    "print(\"fin\")\n",
    "#5.un programme qui prend une liste de chaines de caracteres en entree et affiche la plus longue\n",
    "liste=[\"fatim\",\"ada\",\"wolimata\"]\n",
    "print(max(liste, key=len))\n"
   ]
  },
  {
   "cell_type": "code",
   "execution_count": 4,
   "metadata": {},
   "outputs": [
    {
     "name": "stdout",
     "output_type": "stream",
     "text": [
      "3.0\n",
      "['dieyna', 'wolimata']\n",
      "5.2\n"
     ]
    }
   ],
   "source": [
    "#exo3\n",
    "#1.une liste de nombres et une fonction qui renvoie la mediane de cette liste\n",
    "from statistics import median\n",
    "liste = [1,4,7,2]\n",
    "print(median(liste))\n",
    "#2.une fonction qui prend une liste de chaines de caracteres en entree et renvoie une nouvelle liste contenant seulement les chaines de plus de 5 caracteres\n",
    "def liste_caracteres(liste):\n",
    "    return[i for i in liste if  len(i)>5] \n",
    "print(liste_caracteres([\"dieyna\",\"amy\",\"inna\",\"wolimata\"]))\n",
    "#3.une liste de nombre et ecrire un programme qui calcule la moyenne de ces nombre sans utiliser la fonction 'sum'\n",
    "liste=[4,7,6,1,8]\n",
    "somme =0\n",
    "for i in liste:\n",
    "    somme=somme+i\n",
    "print(somme/len(liste))  \n"
   ]
  },
  {
   "cell_type": "code",
   "execution_count": 11,
   "metadata": {},
   "outputs": [
    {
     "name": "stdout",
     "output_type": "stream",
     "text": [
      "1\n",
      "8\n",
      "27\n",
      "64\n",
      "125\n",
      "216\n",
      "343\n",
      "512\n",
      "729\n"
     ]
    }
   ],
   "source": [
    "#exo4\n",
    "#1\n",
    "char=[\"a\",\"b\",\"c\",\"d\",\"c\",\"d\",\"c\",\"d\"]\n",
    "valunique= []\n",
    "for i in char:\n",
    "    if i not in valunique:\n",
    "        valunique.append(i)\n",
    "sorted(valunique)\n",
    "\n",
    "#3\n",
    "nums=[1,2,3,4,5,6,7,8,9]\n",
    "def squared(x):\n",
    "    return x**3\n",
    "squares= map(squared,nums)\n",
    "for i in squares:\n",
    "    print(i)\n"
   ]
  },
  {
   "cell_type": "markdown",
   "metadata": {},
   "source": []
  },
  {
   "cell_type": "raw",
   "metadata": {},
   "source": []
  },
  {
   "cell_type": "code",
   "execution_count": 1,
   "metadata": {
    "collapsed": true
   },
   "outputs": [
    {
     "ename": "NameError",
     "evalue": "name 'lettres' is not defined",
     "output_type": "error",
     "traceback": [
      "\u001b[1;31m---------------------------------------------------------------------------\u001b[0m",
      "\u001b[1;31mNameError\u001b[0m                                 Traceback (most recent call last)",
      "\u001b[1;32m<ipython-input-1-a23ef5cdaa49>\u001b[0m in \u001b[0;36m<module>\u001b[1;34m\u001b[0m\n\u001b[0;32m     14\u001b[0m \u001b[0mtexte_text\u001b[0m \u001b[1;33m=\u001b[0m \u001b[1;34m\"ceci est un exemple de calcule_frequences.\"\u001b[0m\u001b[1;33m\u001b[0m\u001b[1;33m\u001b[0m\u001b[0m\n\u001b[0;32m     15\u001b[0m \u001b[0mtexte_text\u001b[0m \u001b[1;33m=\u001b[0m \u001b[1;34m\"ceci est un exemple de texte en français ou en englais.\"\u001b[0m\u001b[1;33m\u001b[0m\u001b[1;33m\u001b[0m\u001b[0m\n\u001b[1;32m---> 16\u001b[1;33m \u001b[0mcalculer_frequences\u001b[0m\u001b[1;33m(\u001b[0m\u001b[0mtexte_text\u001b[0m\u001b[1;33m)\u001b[0m\u001b[1;33m\u001b[0m\u001b[1;33m\u001b[0m\u001b[0m\n\u001b[0m\u001b[0;32m     17\u001b[0m \u001b[0mprint\u001b[0m\u001b[1;33m(\u001b[0m\u001b[0mtexte_text\u001b[0m\u001b[1;33m)\u001b[0m\u001b[1;33m\u001b[0m\u001b[1;33m\u001b[0m\u001b[0m\n",
      "\u001b[1;32m<ipython-input-1-a23ef5cdaa49>\u001b[0m in \u001b[0;36mcalculer_frequences\u001b[1;34m(texte)\u001b[0m\n\u001b[0;32m      5\u001b[0m     \u001b[0mlettre\u001b[0m \u001b[1;33m=\u001b[0m \u001b[1;33m[\u001b[0m\u001b[0mc\u001b[0m\u001b[1;33m.\u001b[0m\u001b[0mlower\u001b[0m\u001b[1;33m(\u001b[0m\u001b[1;33m)\u001b[0m \u001b[1;32mfor\u001b[0m \u001b[0mc\u001b[0m \u001b[1;32min\u001b[0m \u001b[0mtexte\u001b[0m \u001b[1;32mif\u001b[0m \u001b[0mc\u001b[0m\u001b[1;33m.\u001b[0m\u001b[0misalpha\u001b[0m\u001b[1;33m(\u001b[0m\u001b[1;33m)\u001b[0m\u001b[1;33m]\u001b[0m\u001b[1;33m\u001b[0m\u001b[1;33m\u001b[0m\u001b[0m\n\u001b[0;32m      6\u001b[0m \u001b[1;33m\u001b[0m\u001b[0m\n\u001b[1;32m----> 7\u001b[1;33m     \u001b[0mtotal\u001b[0m \u001b[1;33m=\u001b[0m \u001b[0mlen\u001b[0m\u001b[1;33m(\u001b[0m\u001b[0mlettres\u001b[0m\u001b[1;33m)\u001b[0m\u001b[1;33m\u001b[0m\u001b[1;33m\u001b[0m\u001b[0m\n\u001b[0m\u001b[0;32m      8\u001b[0m     \u001b[1;32mfor\u001b[0m \u001b[0mlettre\u001b[0m \u001b[1;32min\u001b[0m \u001b[0mlettres\u001b[0m\u001b[1;33m:\u001b[0m\u001b[1;33m\u001b[0m\u001b[1;33m\u001b[0m\u001b[0m\n\u001b[0;32m      9\u001b[0m         \u001b[0mfrequences\u001b[0m\u001b[1;33m[\u001b[0m\u001b[0mlettre\u001b[0m\u001b[1;33m]\u001b[0m \u001b[1;33m=\u001b[0m \u001b[0mfrequences\u001b[0m\u001b[1;33m.\u001b[0m\u001b[0mget\u001b[0m\u001b[1;33m(\u001b[0m\u001b[0mlettre\u001b[0m\u001b[1;33m,\u001b[0m \u001b[1;36m0\u001b[0m\u001b[1;33m)\u001b[0m \u001b[1;33m+\u001b[0m \u001b[1;36m1\u001b[0m\u001b[1;33m\u001b[0m\u001b[1;33m\u001b[0m\u001b[0m\n",
      "\u001b[1;31mNameError\u001b[0m: name 'lettres' is not defined"
     ]
    }
   ],
   "source": [
    "#exo5\n",
    "def calculer_frequences(texte):\n",
    "    frequence = {}\n",
    "    \n",
    "    lettre = [c.lower() for c in texte if c.isalpha()]\n",
    "    \n",
    "    total = len(lettres)\n",
    "    for lettre in lettres:\n",
    "        frequences[lettre] = frequences.get(lettre, 0) + 1\n",
    "        \n",
    "        \n",
    "    frequences = {lettre:(occurrences / total) * 100 for lettre, occurrences in frequences.items()}\n",
    "    return frequences\n",
    "texte_text = \"ceci est un exemple de calcule_frequences.\"\n",
    "texte_text = \"ceci est un exemple de texte en français ou en englais.\"\n",
    "calculer_frequences(texte_text)\n",
    "print(texte_text)"
   ]
  },
  {
   "cell_type": "code",
   "execution_count": null,
   "metadata": {},
   "outputs": [],
   "source": []
  }
 ],
 "metadata": {
  "kernelspec": {
   "display_name": "Python 3",
   "language": "python",
   "name": "python3"
  },
  "language_info": {
   "codemirror_mode": {
    "name": "ipython",
    "version": 3
   },
   "file_extension": ".py",
   "mimetype": "text/x-python",
   "name": "python",
   "nbconvert_exporter": "python",
   "pygments_lexer": "ipython3",
   "version": "3.7.4"
  }
 },
 "nbformat": 4,
 "nbformat_minor": 2
}
